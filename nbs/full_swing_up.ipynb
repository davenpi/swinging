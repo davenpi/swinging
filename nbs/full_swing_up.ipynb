{
 "cells": [
  {
   "cell_type": "code",
   "execution_count": null,
   "id": "c60571f9",
   "metadata": {},
   "outputs": [],
   "source": [
    "import copy\n",
    "import gym\n",
    "import numpy as np\n",
    "import scipy.integrate as si\n",
    "import matplotlib.pyplot as plt\n",
    "import matplotlib.ticker as tck\n",
    "from stable_baselines3 import PPO, DDPG\n",
    "from stable_baselines3.common.env_checker import check_env\n",
    "from stable_baselines3.common.evaluation import evaluate_policy"
   ]
  },
  {
   "cell_type": "code",
   "execution_count": null,
   "id": "2731ab33",
   "metadata": {},
   "outputs": [],
   "source": [
    "class Swing(gym.Env):\n",
    "    def __init__(self, target=np.pi, l_min=1, omega_0=-0.01):\n",
    "        super(Swing, self).__init__()\n",
    "        self.observation_space = gym.spaces.Box(\n",
    "            low=np.array([0, -10, 0]),\n",
    "            high=np.array([2 * np.pi, 10, 2]),  # phi, phi dot, L\n",
    "        )\n",
    "\n",
    "        self.action_space = gym.spaces.Box(\n",
    "            low=np.array([-1, -1]), high=np.array([1, 1])\n",
    "        )\n",
    "        self.tau = np.sqrt(l_min / 9.81) / 4\n",
    "        self.l_min = l_min\n",
    "        self.l_max = 1.2 * l_min\n",
    "        self.omega_0 = omega_0\n",
    "        self.target = target\n",
    "        self.time = 0\n",
    "        self.pumps = 0\n",
    "        self.phi = [np.pi / 8]\n",
    "        self.phi_dot = [self.omega_0]\n",
    "        self.L = [l_min]\n",
    "        self.a_history = []\n",
    "        self.d_history = []\n",
    "\n",
    "    def fun(self, t, y, a, d, g=9.81):\n",
    "        y0_dot = y[1]\n",
    "        y1_dot = (\n",
    "            -2\n",
    "            * y[1]\n",
    "            / y[2]\n",
    "            * (\n",
    "                -(y[2] - self.l_min) / self.tau\n",
    "                + ((self.l_max - self.l_min) / self.tau) * a * np.cos(y[0] + d)\n",
    "            )\n",
    "        ) - (g / y[2]) * np.sin(\n",
    "            y[0]\n",
    "        )  # + (1/y[2])*y[1] #drag term\n",
    "        y2_dot = (\n",
    "            -(y[2] - self.l_min) / self.tau\n",
    "            + (self.l_max - self.l_min) * a * np.cos(y[0] + d) / self.tau\n",
    "        )\n",
    "        y_dot = np.hstack((y0_dot, y1_dot, y2_dot))\n",
    "        return y_dot\n",
    "\n",
    "    def step(self, action):\n",
    "        a = action[0]\n",
    "        self.a_history.append(a)\n",
    "        d = np.pi * action[1]\n",
    "        self.d_history.append(d)\n",
    "        sol = si.solve_ivp(\n",
    "            self.fun,\n",
    "            [self.time, self.time + self.tau],\n",
    "            y0=[self.phi[-1], self.phi_dot[-1], self.L[-1]],\n",
    "            args=(a, d),\n",
    "        )\n",
    "        # phi = np.mod(sol.y[0][-1], 2 * np.pi)\n",
    "        phi = np.mod(sol.y[0], 2 * np.pi)\n",
    "        self.phi.extend(list(phi[1:]))\n",
    "        # phi_dot = sol.y[1][-1]\n",
    "        phi_dot = sol.y[1]\n",
    "        self.phi_dot.extend(list(phi_dot[1:]))\n",
    "        # L = sol.y[2][-1]\n",
    "        L = sol.y[2]\n",
    "        self.L.extend(list(L[1:]))\n",
    "        # state = np.array([phi[-1], phi_dot[-1]])\n",
    "        state = np.array([phi[-1], phi_dot[-1], L[-1]])\n",
    "        if np.isclose(state[0], self.target, rtol=0.05):\n",
    "            reward = 10\n",
    "            done = True\n",
    "        elif self.pumps > 1000:\n",
    "            reward = -1\n",
    "            done = True\n",
    "        else:\n",
    "            reward = -1\n",
    "            done = False\n",
    "        info = {}\n",
    "        self.time += self.tau\n",
    "        self.pumps += 1\n",
    "        return state, reward, done, info\n",
    "\n",
    "    def reset(self):\n",
    "        self.time = 0\n",
    "        self.pumps = 0\n",
    "        self.L = [self.l_min]\n",
    "        self.phi = [np.pi / 8]\n",
    "        self.phi_dot = [self.omega_0]\n",
    "        # state = np.array([self.phi[-1], self.phi_dot[-1]])\n",
    "        state = np.array([self.phi[-1], self.phi_dot[-1], self.L[-1]])\n",
    "        self.a_history.clear()\n",
    "        self.d_history.clear()\n",
    "        return state\n",
    "\n",
    "    def render(self):\n",
    "        pass"
   ]
  },
  {
   "cell_type": "code",
   "execution_count": null,
   "id": "7f9e8413",
   "metadata": {
    "tags": []
   },
   "outputs": [],
   "source": [
    "env = Swing(target=np.pi)\n",
    "# model = PPO(\"MlpPolicy\", env, verbose=1)\n",
    "# model.learn(total_timesteps=3.5e5)"
   ]
  },
  {
   "cell_type": "code",
   "execution_count": null,
   "id": "4d9ad336",
   "metadata": {},
   "outputs": [],
   "source": [
    "# model.save(\"fullswingup\")\n",
    "# del model\n",
    "model = PPO.load(\"fullswingup.zip\", env=env)"
   ]
  },
  {
   "cell_type": "code",
   "execution_count": null,
   "id": "83f1f53e",
   "metadata": {},
   "outputs": [],
   "source": [
    "obs = env.reset()\n",
    "done = False\n",
    "i = 0\n",
    "while not done:\n",
    "    action, _states = model.predict(obs, deterministic=True)\n",
    "    obs, reward, done, info = env.step(action)\n",
    "    env.render()\n",
    "    i += 1\n",
    "\n",
    "a_actions = copy.deepcopy(env.a_history)\n",
    "a_actions.insert(0, 0)\n",
    "\n",
    "d_actions = copy.deepcopy(env.d_history)\n",
    "d_actions.insert(0, 0)"
   ]
  },
  {
   "cell_type": "code",
   "execution_count": null,
   "id": "75f9fe17",
   "metadata": {},
   "outputs": [],
   "source": [
    "times = np.linspace(1, len(env.phi), len(env.phi))\n",
    "plt.figure(figsize=(8, 8))\n",
    "plt.plot(times, env.phi, \"-o\")\n",
    "plt.title(r\"$\\phi$ at each step\")\n",
    "plt.xlabel(\"time\", fontsize=15)\n",
    "plt.ylabel(r\"$\\phi$\", fontsize=15)\n",
    "plt.yticks(\n",
    "    np.linspace(0, 2 * np.pi, 5),\n",
    "    labels=[\"0\", r\"$\\frac{\\pi}{2}$\", r\"$\\pi$\", r\"$\\frac{3\\pi}{2}$\", r\"2$\\pi$\"],\n",
    "    fontsize=15,\n",
    ")\n",
    "plt.show()"
   ]
  },
  {
   "cell_type": "code",
   "execution_count": null,
   "id": "4a975475",
   "metadata": {},
   "outputs": [],
   "source": [
    "plt.figure(figsize=(8, 8))\n",
    "plt.plot(times, env.L, \"-o\")\n",
    "plt.xlabel(\"time\", fontsize=15)\n",
    "plt.ylabel(r\"L\", fontsize=15)\n",
    "plt.title(r\"$L(t)$\", fontsize=15)\n",
    "plt.show()"
   ]
  },
  {
   "cell_type": "code",
   "execution_count": null,
   "id": "cedcf7d8",
   "metadata": {},
   "outputs": [],
   "source": [
    "phi_dot = np.array(env.phi_dot)"
   ]
  },
  {
   "cell_type": "code",
   "execution_count": null,
   "id": "b36784c4",
   "metadata": {},
   "outputs": [],
   "source": [
    "phi_dot"
   ]
  },
  {
   "cell_type": "code",
   "execution_count": null,
   "id": "bed091c2",
   "metadata": {},
   "outputs": [],
   "source": [
    "ch = np.where(phi_dot[:-1] * phi_dot[1:] < 0)[0]  # this array detects sign changes"
   ]
  },
  {
   "cell_type": "code",
   "execution_count": null,
   "id": "e2320976",
   "metadata": {},
   "outputs": [],
   "source": [
    "plt.plot(env.phi[: ch[0] + 1], env.L[: ch[0] + 1], \"-o\")"
   ]
  },
  {
   "cell_type": "code",
   "execution_count": null,
   "id": "1a99adcf",
   "metadata": {},
   "outputs": [],
   "source": [
    "a = list(zip(env.phi, env.L, env.phi_dot))\n",
    "a.sort(key=lambda x: x[0])"
   ]
  },
  {
   "cell_type": "code",
   "execution_count": null,
   "id": "f5cc79d1",
   "metadata": {},
   "outputs": [],
   "source": [
    "fq_phi = [p for p in a if p[0] < np.pi / 2]"
   ]
  },
  {
   "cell_type": "code",
   "execution_count": null,
   "id": "3a773f7a",
   "metadata": {},
   "outputs": [],
   "source": [
    "fq_phi_up = [p for p in fq_phi if p[2] > 0]\n",
    "fq_phi_down = [p for p in fq_phi if p[2] < 0]"
   ]
  },
  {
   "cell_type": "code",
   "execution_count": null,
   "id": "857c6a27",
   "metadata": {},
   "outputs": [],
   "source": [
    "def plot_L_vs_phi(env, first_quadrant=True):\n",
    "    \"\"\"\n",
    "    This function takes in an environment and gives a plot of L vs phi.\n",
    "\n",
    "    The complicated point is to account for the direction of motion and the\n",
    "    side of the swing we are on.\n",
    "    \"\"\"\n",
    "    a = list(zip(env.phi, env.phi_dot, env.L))\n",
    "    a.sort(key=lambda x: x[0])\n",
    "    plt.figure(figsize=(8, 8))\n",
    "    if first_quadrant == True:\n",
    "        tup = [p for p in a if p[0] < np.pi / 2]\n",
    "        tup_up = [p for p in tup if p[1] > 0]\n",
    "        tup_down = [p for p in tup if p[1] < 0]\n",
    "        plt.xticks(\n",
    "            [0, np.pi / 4, np.pi / 2],\n",
    "            [\"0\", r\"$\\frac{\\pi}{4}$\", r\"$\\frac{\\pi}{2}$\"],\n",
    "            fontsize=15,\n",
    "        )\n",
    "        # plt.xlim([0, np.pi/2])\n",
    "    else:\n",
    "        tup = [p for p in a if p[0] > 3 * np.pi / 2]\n",
    "        tup_up = [p for p in tup if p[1] > 0]\n",
    "        tup_down = [p for p in tup if p[1] < 0]\n",
    "        plt.xticks(\n",
    "            [3 * np.pi / 2, 2 * np.pi], [r\"$\\frac{3\\pi}{2}$\", r\"$2\\pi$\"], fontsize=15\n",
    "        )\n",
    "\n",
    "    phi_up = np.array([p[0] for p in tup_up])\n",
    "    l_up = np.array([p[2] for p in tup_up])\n",
    "\n",
    "    phi_down = np.array([p[0] for p in tup_down])\n",
    "    l_down = np.array([p[2] for p in tup_down])\n",
    "\n",
    "    plt.plot(phi_up, l_up, \"--o\", label=\"ascent\")\n",
    "    plt.plot(phi_down, l_down, \"--o\", label=\"descent\")\n",
    "    # plt.arrow(phi_up[5], l_up[5], phi_up[5]+0.01, l_up[5]+0.01)\n",
    "    plt.legend()\n",
    "    plt.xlabel(r\"$\\phi$\", fontsize=15)\n",
    "    plt.ylabel(\"L\", fontsize=15)\n",
    "    plt.title(r\"L vs $\\phi$\", fontsize=15)\n",
    "    plt.show()"
   ]
  },
  {
   "cell_type": "code",
   "execution_count": null,
   "id": "8aeca7c9",
   "metadata": {},
   "outputs": [],
   "source": [
    "plot_L_vs_phi(env)"
   ]
  },
  {
   "cell_type": "code",
   "execution_count": null,
   "id": "3fa22d68",
   "metadata": {},
   "outputs": [],
   "source": [
    "plot_L_vs_phi(env, False)"
   ]
  },
  {
   "cell_type": "code",
   "execution_count": null,
   "id": "ad7f5c86",
   "metadata": {},
   "outputs": [],
   "source": [
    "phi_up_sorted = np.array([p[0] for p in fq_phi_up])\n",
    "phi_down_sorted = np.array([p[0] for p in fq_phi_down])\n",
    "l_up_sorted = np.array([p[1] for p in fq_phi_up])\n",
    "l_down_sorted = np.array([p[1] for p in fq_phi_down])"
   ]
  },
  {
   "cell_type": "code",
   "execution_count": null,
   "id": "ce48c6e3",
   "metadata": {},
   "outputs": [],
   "source": [
    "# idxs = np.where(phi_sorted < np.pi/2)[0]"
   ]
  },
  {
   "cell_type": "code",
   "execution_count": null,
   "id": "9b1832bf",
   "metadata": {},
   "outputs": [],
   "source": [
    "# small_phi = phi_sorted[list(idxs)]\n",
    "# small_phi_l = l_sorted[list(idxs)]"
   ]
  },
  {
   "cell_type": "code",
   "execution_count": null,
   "id": "77346faf",
   "metadata": {},
   "outputs": [],
   "source": [
    "plt.figure(figsize=(8, 8))\n",
    "# plt.plot(neg_omeg_thetas, neg_omeg_Ls, '-o')\n",
    "plt.plot(phi_up_sorted, l_up_sorted, \"--o\", label=\"moving up\")\n",
    "plt.plot(phi_down_sorted, l_down_sorted, \"--o\", label=\"moving down\")\n",
    "plt.legend()\n",
    "# plt.plot(small_phi[::3], small_phi_l[::3], '-o')\n",
    "plt.xlabel(r\"$\\phi$\", fontsize=15)\n",
    "plt.ylabel(\"L\", fontsize=15)\n",
    "# plt.xticks(\n",
    "#     [0, np.pi / 4, np.pi, 7 * np.pi / 4, 2 * np.pi],\n",
    "#     [r\"0\", r\"$\\frac{\\pi}{4}$\", r\"$\\pi$\", r\"$\\frac{7\\pi}{4}$\", r\"2$\\pi$\"],\n",
    "# )\n",
    "plt.title(r\"L vs $\\phi$\", fontsize=15)\n",
    "plt.show()"
   ]
  },
  {
   "cell_type": "code",
   "execution_count": null,
   "id": "25551d32",
   "metadata": {},
   "outputs": [],
   "source": [
    "plt.plot(env.phi_dot, env.L, \"-o\")"
   ]
  },
  {
   "cell_type": "code",
   "execution_count": null,
   "id": "ab4765f0",
   "metadata": {},
   "outputs": [],
   "source": [
    "# plt.figure(figsize=(8, 8))\n",
    "# plt.plot(times, a_actions, \"-o\")\n",
    "# plt.xlabel(\"time\", fontsize=15)\n",
    "# plt.ylabel(\"a\", fontsize=15)\n",
    "# plt.title(r\"$a(t)$\", fontsize=15)\n",
    "# plt.show()"
   ]
  },
  {
   "cell_type": "code",
   "execution_count": null,
   "id": "996ecc48",
   "metadata": {},
   "outputs": [],
   "source": [
    "# f, ax = plt.subplots(figsize=(10, 10))\n",
    "\n",
    "# ax.plot(times, d_actions, \"-o\")\n",
    "# # ax.yaxis.set_major_formatter(tck.FormatStrFormatter('$\\pi$'))\n",
    "# # ax.yaxis.set_major_locator(tck.MultipleLocator(base=0.5))\n",
    "# # plt.plot(times, d_actions[-23:], \"-o\")\n",
    "# ax.set_xlabel(\"time\", fontsize=15)\n",
    "# ax.set_ylabel(r\"$\\delta$\", fontsize=15)\n",
    "# ax.set_title(r\"$\\delta(t)$\", fontsize=15)\n",
    "# ax.set_yticks(\n",
    "#     np.linspace(-np.pi, np.pi, 3), labels=[r\"-$\\pi$\", r\"0\", r\"$\\pi$\"], fontsize=15\n",
    "# )\n",
    "# plt.show()"
   ]
  },
  {
   "cell_type": "markdown",
   "id": "35f3a512",
   "metadata": {},
   "source": [
    "$$(\\phi, \\dot{\\phi})$$"
   ]
  },
  {
   "cell_type": "code",
   "execution_count": null,
   "id": "e29f9e07",
   "metadata": {},
   "outputs": [],
   "source": [
    "x_pos = np.array(env.L) * np.sin(env.phi)\n",
    "y_pos = -np.array(env.L) * np.cos(env.phi)\n",
    "ref_x = np.array(env.l_max) * np.sin(env.phi)\n",
    "ref_y = -np.array(env.l_max) * np.cos(env.phi)\n",
    "pos_arr = np.vstack((x_pos, y_pos))\n",
    "ref_pos_arr = np.vstack((ref_x, ref_y))\n",
    "np.save(\"positions_arr\", pos_arr)\n",
    "np.save(\"ref_pos_arr\", ref_pos_arr)"
   ]
  },
  {
   "cell_type": "code",
   "execution_count": null,
   "id": "3ba017ee",
   "metadata": {},
   "outputs": [],
   "source": []
  }
 ],
 "metadata": {
  "kernelspec": {
   "display_name": "swinging",
   "language": "python",
   "name": "swinging"
  },
  "language_info": {
   "codemirror_mode": {
    "name": "ipython",
    "version": 3
   },
   "file_extension": ".py",
   "mimetype": "text/x-python",
   "name": "python",
   "nbconvert_exporter": "python",
   "pygments_lexer": "ipython3",
   "version": "3.7.4"
  }
 },
 "nbformat": 4,
 "nbformat_minor": 5
}
