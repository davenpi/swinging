{
 "cells": [
  {
   "cell_type": "code",
   "execution_count": null,
   "id": "2be9e4eb-ea99-4d18-a339-01bff03c8586",
   "metadata": {},
   "outputs": [],
   "source": [
    "%reset -f\n",
    "import gym\n",
    "import numpy as np\n",
    "import scipy.integrate as si\n",
    "import matplotlib.pyplot as plt\n",
    "from stable_baselines3 import PPO, DDPG\n",
    "from stable_baselines3.common.env_checker import check_env"
   ]
  },
  {
   "cell_type": "code",
   "execution_count": null,
   "id": "3adb9be5-ba41-4fa9-ac34-145ad2b6f8e3",
   "metadata": {},
   "outputs": [],
   "source": [
    "class Swing(gym.Env):\n",
    "    def __init__(\n",
    "        self,\n",
    "        L0: float = 1.0,\n",
    "        phi_0: float = 10.0,\n",
    "        omega_0: float = -0.5,\n",
    "        target_phi: float = np.pi / 2,\n",
    "        dt: float = 0.01,\n",
    "    ):\n",
    "        super(Swing, self).__init__()\n",
    "        self.g = 10\n",
    "        self.L0 = L0\n",
    "        self.Lmax = 2 * L0\n",
    "        self.phi_0 = np.deg2rad(phi_0)\n",
    "        self.omega_0 = omega_0\n",
    "        self.phi = []\n",
    "        self.phi.append(self.phi_0)\n",
    "        self.omega = []\n",
    "        self.omega.append(self.omega_0)\n",
    "        self.dt = dt\n",
    "        self.L = []\n",
    "        self.L.append(self.L0)\n",
    "        self.target_phi = target_phi\n",
    "        self.pumps = 0\n",
    "        self.action_space = gym.spaces.Box(low=0, high=1, shape=(1,))\n",
    "        self.observation_space = gym.spaces.Box(low=-10, high=10, shape=(2,))\n",
    "\n",
    "    def evolve(self):\n",
    "        L_dot = (self.L[-1] - self.L[-2]) / self.dt\n",
    "        omega_f = self.omega[-1] - self.dt * (\n",
    "            2 * L_dot / self.L[-1] * self.omega[-1]\n",
    "            + self.g / self.L[-1] * np.sin(self.phi[-1])\n",
    "        )\n",
    "        self.omega.append(omega_f)\n",
    "        phi_new = self.phi[-1] + self.dt * omega_f\n",
    "        self.phi.append(phi_new)\n",
    "        self.pumps += 1\n",
    "\n",
    "    def step(self, action):\n",
    "        \"\"\"\n",
    "        Action is a choice of L\n",
    "        \"\"\"\n",
    "        action = action.item()\n",
    "        l_new = (action + 0.01) * self.Lmax\n",
    "        # print(l_new)\n",
    "        self.L.append(l_new)\n",
    "        self.evolve()\n",
    "        state = np.array([self.phi[-1], self.omega[-1]])\n",
    "\n",
    "        if np.isclose(self.phi[-1], self.target_phi, rtol=0.1):\n",
    "            reward = 10\n",
    "            done = True\n",
    "            state = self.reset()\n",
    "        else:\n",
    "            reward = -1\n",
    "            done = False\n",
    "            if self.pumps > 15:\n",
    "                done = True\n",
    "                state = self.reset()\n",
    "\n",
    "        return state, reward, done, {}\n",
    "\n",
    "    def reset(self):\n",
    "        self.clear()\n",
    "        self.phi.append(self.phi_0)\n",
    "        self.omega.append(self.omega_0)\n",
    "        self.L.append(self.L0)\n",
    "        state = np.array([self.phi[-1], self.omega[-1]])\n",
    "        self.pumps = 0\n",
    "        return state\n",
    "\n",
    "    def render():\n",
    "        pass\n",
    "\n",
    "    def clear(self):\n",
    "        self.L.clear()\n",
    "        self.omega.clear()\n",
    "        self.phi.clear()"
   ]
  },
  {
   "cell_type": "code",
   "execution_count": null,
   "id": "2accd6a6-2297-4c77-9dce-877e004247c0",
   "metadata": {},
   "outputs": [],
   "source": []
  },
  {
   "cell_type": "code",
   "execution_count": null,
   "id": "d93d5a2d-4219-4be0-882d-75e8cba9b977",
   "metadata": {},
   "outputs": [],
   "source": [
    "env = Swing()"
   ]
  },
  {
   "cell_type": "code",
   "execution_count": null,
   "id": "e7c6570c-266c-4177-a5c6-cc17d2377e3b",
   "metadata": {},
   "outputs": [],
   "source": [
    "model = PPO(\"MlpPolicy\", env, verbose=1)"
   ]
  },
  {
   "cell_type": "code",
   "execution_count": null,
   "id": "fd5b7c6e-1a64-4cc6-b79f-f6b17a54d3b1",
   "metadata": {},
   "outputs": [],
   "source": [
    "model.learn(total_timesteps=int(2e5))"
   ]
  },
  {
   "cell_type": "code",
   "execution_count": null,
   "id": "af77f2c6-b3ac-45cb-8361-4220db9d09ad",
   "metadata": {},
   "outputs": [],
   "source": []
  }
 ],
 "metadata": {
  "kernelspec": {
   "display_name": "chameleon",
   "language": "python",
   "name": "chameleon"
  },
  "language_info": {
   "codemirror_mode": {
    "name": "ipython",
    "version": 3
   },
   "file_extension": ".py",
   "mimetype": "text/x-python",
   "name": "python",
   "nbconvert_exporter": "python",
   "pygments_lexer": "ipython3",
   "version": "3.7.4"
  }
 },
 "nbformat": 4,
 "nbformat_minor": 5
}
