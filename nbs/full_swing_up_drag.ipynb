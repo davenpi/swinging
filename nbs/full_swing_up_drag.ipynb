{
 "cells": [
  {
   "cell_type": "code",
   "execution_count": null,
   "id": "1e885d9f-2ea7-4101-9cee-c895548c1673",
   "metadata": {},
   "outputs": [],
   "source": [
    "import copy\n",
    "import gym\n",
    "import numpy as np\n",
    "import scipy.integrate as si\n",
    "import matplotlib.pyplot as plt\n",
    "import matplotlib.ticker as tck\n",
    "from stable_baselines3 import PPO, DDPG\n",
    "from stable_baselines3.common.env_checker import check_env\n",
    "from stable_baselines3.common.evaluation import evaluate_policy"
   ]
  },
  {
   "cell_type": "code",
   "execution_count": null,
   "id": "ec343c10-e968-469f-b475-5934ff60611b",
   "metadata": {},
   "outputs": [],
   "source": [
    "class Swing(gym.Env):\n",
    "    def __init__(self, target=np.pi, l_min=1, omega_0=-0.01):\n",
    "        super(Swing, self).__init__()\n",
    "        self.observation_space = gym.spaces.Box(\n",
    "            low=np.array([0, -10, 0]),\n",
    "            high=np.array([2 * np.pi, 10, 2]),  # phi, phi dot, L\n",
    "        )\n",
    "\n",
    "        self.action_space = gym.spaces.Box(\n",
    "            low=np.array([-1, -1]), high=np.array([1, 1])\n",
    "        )\n",
    "        self.tau = np.sqrt(l_min / 9.81) / 4\n",
    "        self.l_min = l_min\n",
    "        self.l_max = 1.2 * l_min\n",
    "        self.omega_0 = omega_0\n",
    "        self.target = target\n",
    "        self.time = 0\n",
    "        self.pumps = 0\n",
    "        self.phi = [np.pi / 8]\n",
    "        self.phi_dot = [self.omega_0]\n",
    "        self.L = [l_min]\n",
    "        self.a_history = []\n",
    "        self.d_history = []\n",
    "\n",
    "    def fun(self, t, y, a, d, g=9.81):\n",
    "        y0_dot = y[1]\n",
    "        y1_dot = (\n",
    "            (\n",
    "                -2\n",
    "                * y[1]\n",
    "                / y[2]\n",
    "                * (\n",
    "                    -(y[2] - self.l_min) / self.tau\n",
    "                    + ((self.l_max - self.l_min) / self.tau) * a * np.cos(y[0] + d)\n",
    "                )\n",
    "            )\n",
    "            - (g / y[2]) * np.sin(y[0])\n",
    "            + (0.1 / y[2] ** 2) * y[1]\n",
    "        )  # drag term\n",
    "        y2_dot = (\n",
    "            -(y[2] - self.l_min) / self.tau\n",
    "            + (self.l_max - self.l_min) * a * np.cos(y[0] + d) / self.tau\n",
    "        )\n",
    "        y_dot = np.hstack((y0_dot, y1_dot, y2_dot))\n",
    "        return y_dot\n",
    "\n",
    "    def step(self, action):\n",
    "        a = action[0]\n",
    "        self.a_history.append(a)\n",
    "        d = np.pi * action[1]\n",
    "        self.d_history.append(d)\n",
    "        sol = si.solve_ivp(\n",
    "            self.fun,\n",
    "            [self.time, self.time + self.tau],\n",
    "            y0=[self.phi[-1], self.phi_dot[-1], self.L[-1]],\n",
    "            args=(a, d),\n",
    "        )\n",
    "        # phi = np.mod(sol.y[0][-1], 2 * np.pi)\n",
    "        phi = np.mod(sol.y[0], 2 * np.pi)\n",
    "        self.phi.extend(list(phi[1:]))\n",
    "        # phi_dot = sol.y[1][-1]\n",
    "        phi_dot = sol.y[1]\n",
    "        self.phi_dot.extend(list(phi_dot[1:]))\n",
    "        # L = sol.y[2][-1]\n",
    "        L = sol.y[2]\n",
    "        self.L.extend(list(L[1:]))\n",
    "        # state = np.array([phi[-1], phi_dot[-1]])\n",
    "        state = np.array([phi[-1], phi_dot[-1], L[-1]])\n",
    "        if np.isclose(state[0], self.target, rtol=0.05):\n",
    "            reward = 10\n",
    "            done = True\n",
    "        elif self.pumps > 1000:\n",
    "            reward = -1\n",
    "            done = True\n",
    "        else:\n",
    "            reward = -1\n",
    "            done = False\n",
    "        info = {}\n",
    "        self.time += self.tau\n",
    "        self.pumps += 1\n",
    "        return state, reward, done, info\n",
    "\n",
    "    def reset(self):\n",
    "        self.time = 0\n",
    "        self.pumps = 0\n",
    "        self.L = [self.l_min]\n",
    "        self.phi = [np.pi / 8]\n",
    "        self.phi_dot = [self.omega_0]\n",
    "        # state = np.array([self.phi[-1], self.phi_dot[-1]])\n",
    "        state = np.array([self.phi[-1], self.phi_dot[-1], self.L[-1]])\n",
    "        self.a_history.clear()\n",
    "        self.d_history.clear()\n",
    "        return state\n",
    "\n",
    "    def render(self):\n",
    "        pass"
   ]
  },
  {
   "cell_type": "code",
   "execution_count": null,
   "id": "78fc2c5a-7efe-42b8-8fde-8d45b3f61e35",
   "metadata": {
    "tags": []
   },
   "outputs": [],
   "source": [
    "env = Swing(target=np.pi)\n",
    "model = PPO(\"MlpPolicy\", env, verbose=1)\n",
    "model.learn(total_timesteps=3e5)"
   ]
  },
  {
   "cell_type": "code",
   "execution_count": null,
   "id": "6bf09b41-f04d-417c-9e7e-7d39b79f7d98",
   "metadata": {},
   "outputs": [],
   "source": [
    "model.save(\"fullswingup_drag\")\n",
    "del model\n",
    "model = PPO.load(\"fullswingup_drag.zip\", env=env)"
   ]
  },
  {
   "cell_type": "code",
   "execution_count": null,
   "id": "c1325b53-0253-40d6-a8a9-2c5864a62270",
   "metadata": {},
   "outputs": [],
   "source": [
    "def plot_L_vs_phi(env, first_quadrant=True):\n",
    "    \"\"\"\n",
    "    This function takes in an environment and gives a plot of L vs phi.\n",
    "\n",
    "    The complicated point is to account for the direction of motion and the\n",
    "    side of the swing we are on.\n",
    "    \"\"\"\n",
    "    a = list(zip(env.phi, env.phi_dot, env.L))\n",
    "    a.sort(key=lambda x: x[0])\n",
    "    plt.figure(figsize=(8, 8))\n",
    "    if first_quadrant == True:\n",
    "        tup = [p for p in a if p[0] < np.pi / 2]\n",
    "        tup_up = [p for p in tup if p[1] > 0]\n",
    "        tup_down = [p for p in tup if p[1] < 0]\n",
    "        plt.xticks(\n",
    "            [0, np.pi / 4, np.pi / 2],\n",
    "            [\"0\", r\"$\\frac{\\pi}{4}$\", r\"$\\frac{\\pi}{2}$\"],\n",
    "            fontsize=15,\n",
    "        )\n",
    "        # plt.xlim([0, np.pi/2])\n",
    "    else:\n",
    "        tup = [p for p in a if p[0] > 3 * np.pi / 2]\n",
    "        tup_up = [p for p in tup if p[1] > 0]\n",
    "        tup_down = [p for p in tup if p[1] < 0]\n",
    "        plt.xticks(\n",
    "            [3 * np.pi / 2, 2 * np.pi], [r\"$\\frac{3\\pi}{2}$\", r\"$2\\pi$\"], fontsize=15\n",
    "        )\n",
    "\n",
    "    phi_up = np.array([p[0] for p in tup_up])\n",
    "    l_up = np.array([p[2] for p in tup_up])\n",
    "\n",
    "    phi_down = np.array([p[0] for p in tup_down])\n",
    "    l_down = np.array([p[2] for p in tup_down])\n",
    "\n",
    "    plt.plot(phi_up, l_up, \"--o\", label=\"ascent\")\n",
    "    plt.plot(phi_down, l_down, \"--o\", label=\"descent\")\n",
    "    # plt.arrow(phi_up[5], l_up[5], phi_up[5]+0.01, l_up[5]+0.01)\n",
    "    plt.legend()\n",
    "    plt.xlabel(r\"$\\phi$\", fontsize=15)\n",
    "    plt.ylabel(\"L\", fontsize=15)\n",
    "    plt.title(r\"L vs $\\phi$\", fontsize=15)\n",
    "    plt.show()"
   ]
  },
  {
   "cell_type": "code",
   "execution_count": null,
   "id": "db301a96-b168-4705-b8c4-89eef63786a0",
   "metadata": {},
   "outputs": [],
   "source": [
    "plot_L_vs_phi(env)"
   ]
  },
  {
   "cell_type": "code",
   "execution_count": null,
   "id": "b043d9c1-5823-4e48-9e68-ea9b513a28a9",
   "metadata": {},
   "outputs": [],
   "source": [
    "obs = env.reset()\n",
    "done = False\n",
    "i = 0\n",
    "while not done:\n",
    "    action, _states = model.predict(obs, deterministic=True)\n",
    "    obs, reward, done, info = env.step(action)\n",
    "    env.render()\n",
    "    i += 1\n",
    "\n",
    "a_actions = copy.deepcopy(env.a_history)\n",
    "a_actions.insert(0, 0)\n",
    "\n",
    "d_actions = copy.deepcopy(env.d_history)\n",
    "d_actions.insert(0, 0)"
   ]
  },
  {
   "cell_type": "code",
   "execution_count": null,
   "id": "c5400909-012f-4dbc-8003-525c5dc6f854",
   "metadata": {},
   "outputs": [],
   "source": [
    "times = np.linspace(1, len(env.phi), len(env.phi))\n",
    "plt.figure(figsize=(8, 8))\n",
    "plt.plot(times, env.phi, \"-o\")\n",
    "plt.title(r\"$\\phi$ at each step\")\n",
    "plt.xlabel(\"time\", fontsize=15)\n",
    "plt.ylabel(r\"$\\phi$\", fontsize=15)\n",
    "plt.yticks(\n",
    "    np.linspace(0, 2 * np.pi, 5),\n",
    "    labels=[\"0\", r\"$\\frac{\\pi}{2}$\", r\"$\\pi$\", r\"$\\frac{3\\pi}{2}$\", r\"2$\\pi$\"],\n",
    "    fontsize=15,\n",
    ")\n",
    "plt.show()"
   ]
  },
  {
   "cell_type": "code",
   "execution_count": null,
   "id": "6975b4fa-3f86-4600-91f6-bb38fda2540a",
   "metadata": {},
   "outputs": [],
   "source": [
    "plt.figure(figsize=(8, 8))\n",
    "plt.plot(times, env.L, \"-o\")\n",
    "plt.xlabel(\"time\", fontsize=15)\n",
    "plt.ylabel(r\"L\", fontsize=15)\n",
    "plt.title(r\"$L(t)$\", fontsize=15)\n",
    "plt.show()"
   ]
  },
  {
   "cell_type": "code",
   "execution_count": null,
   "id": "3a22a7d4-992b-43c8-b7ed-f5453ab110be",
   "metadata": {},
   "outputs": [],
   "source": [
    "a = list(zip(env.phi, env.L))\n",
    "a.sort(key=lambda x: x[0])"
   ]
  },
  {
   "cell_type": "code",
   "execution_count": null,
   "id": "b2068588-bcad-4d5d-90a9-b7789a5c1134",
   "metadata": {},
   "outputs": [],
   "source": [
    "phi_sorted = [p[0] for p in a]\n",
    "l_sorted = [p[1] for p in a]"
   ]
  },
  {
   "cell_type": "code",
   "execution_count": null,
   "id": "a4845985-c394-405b-a9b9-4590312a1df6",
   "metadata": {},
   "outputs": [],
   "source": [
    "# plt.figure(figsize=(8, 8))\n",
    "# plt.plot(phi_sorted[::4], l_sorted[::4], \"--o\")\n",
    "# plt.xlabel(r\"$\\phi$\", fontsize=15)\n",
    "# plt.ylabel(\"L\", fontsize=15)\n",
    "# plt.xticks(\n",
    "#     [0, np.pi / 4, np.pi, 7 * np.pi / 4, 2 * np.pi],\n",
    "#     [r\"0\", r\"$\\frac{\\pi}{4}$\", r\"$\\pi$\", r\"$\\frac{7\\pi}{4}$\", r\"2$\\pi$\"],\n",
    "# )\n",
    "# plt.title(r\"L vs $\\phi$\", fontsize=15)\n",
    "# plt.show()"
   ]
  },
  {
   "cell_type": "code",
   "execution_count": null,
   "id": "b760eac5-39d6-45a7-97c0-a639729c0d36",
   "metadata": {},
   "outputs": [],
   "source": [
    "# plt.figure(figsize=(8, 8))\n",
    "# plt.plot(times, a_actions, \"-o\")\n",
    "# plt.xlabel(\"time\", fontsize=15)\n",
    "# plt.ylabel(\"a\", fontsize=15)\n",
    "# plt.title(r\"$a(t)$\", fontsize=15)\n",
    "# plt.show()"
   ]
  },
  {
   "cell_type": "code",
   "execution_count": null,
   "id": "199071d1-47fc-4db8-8771-fdd9404dc620",
   "metadata": {},
   "outputs": [],
   "source": [
    "# f, ax = plt.subplots(figsize=(10, 10))\n",
    "\n",
    "# ax.plot(times, d_actions, \"-o\")\n",
    "# # ax.yaxis.set_major_formatter(tck.FormatStrFormatter('$\\pi$'))\n",
    "# # ax.yaxis.set_major_locator(tck.MultipleLocator(base=0.5))\n",
    "# # plt.plot(times, d_actions[-23:], \"-o\")\n",
    "# ax.set_xlabel(\"time\", fontsize=15)\n",
    "# ax.set_ylabel(r\"$\\delta$\", fontsize=15)\n",
    "# ax.set_title(r\"$\\delta(t)$\", fontsize=15)\n",
    "# ax.set_yticks(\n",
    "#     np.linspace(-np.pi, np.pi, 3), labels=[r\"-$\\pi$\", r\"0\", r\"$\\pi$\"], fontsize=15\n",
    "# )\n",
    "# plt.show()"
   ]
  },
  {
   "cell_type": "markdown",
   "id": "88721152-e746-4539-8a6f-c812ff56dba6",
   "metadata": {},
   "source": [
    "$$(\\phi, \\dot{\\phi})$$"
   ]
  },
  {
   "cell_type": "code",
   "execution_count": null,
   "id": "dbcdd4e4-3b32-4b3e-9686-97053ae25feb",
   "metadata": {},
   "outputs": [],
   "source": [
    "x_pos = np.array(env.L) * np.sin(env.phi)\n",
    "y_pos = -np.array(env.L) * np.cos(env.phi)\n",
    "ref_x = np.array(env.l_max) * np.sin(env.phi)\n",
    "ref_y = -np.array(env.l_max) * np.cos(env.phi)\n",
    "pos_arr = np.vstack((x_pos, y_pos))\n",
    "ref_pos_arr = np.vstack((ref_x, ref_y))\n",
    "np.save(\"positions_arr_drag\", pos_arr)\n",
    "np.save(\"ref_pos_arr_drag\", ref_pos_arr)"
   ]
  },
  {
   "cell_type": "code",
   "execution_count": null,
   "id": "87106f0b-feea-4680-bebb-572fd9493440",
   "metadata": {},
   "outputs": [],
   "source": []
  }
 ],
 "metadata": {
  "kernelspec": {
   "display_name": "chameleon",
   "language": "python",
   "name": "chameleon"
  },
  "language_info": {
   "codemirror_mode": {
    "name": "ipython",
    "version": 3
   },
   "file_extension": ".py",
   "mimetype": "text/x-python",
   "name": "python",
   "nbconvert_exporter": "python",
   "pygments_lexer": "ipython3",
   "version": "3.7.4"
  }
 },
 "nbformat": 4,
 "nbformat_minor": 5
}
