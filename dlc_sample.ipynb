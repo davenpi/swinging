{
 "cells": [
  {
   "cell_type": "code",
   "execution_count": 1,
   "id": "4914d2b6",
   "metadata": {
    "scrolled": false
   },
   "outputs": [
    {
     "name": "stdout",
     "output_type": "stream",
     "text": [
      "Loading DLC 2.2.1.1...\n"
     ]
    },
    {
     "name": "stderr",
     "output_type": "stream",
     "text": [
      "/Users/iandavenport/opt/anaconda3/envs/DEEPLABCUT/lib/python3.8/site-packages/statsmodels/compat/pandas.py:65: FutureWarning: pandas.Int64Index is deprecated and will be removed from pandas in a future version. Use pandas.Index with the appropriate dtype instead.\n",
      "  from pandas import Int64Index as NumericIndex\n",
      "/Users/iandavenport/opt/anaconda3/envs/DEEPLABCUT/lib/python3.8/site-packages/deeplabcut/__init__.py:81: UserWarning: \n",
      "        As PyTorch is not installed, unsupervised identity learning will not be available.\n",
      "        Please run `pip install torch`, or ignore this warning.\n",
      "        \n",
      "  warnings.warn(\n"
     ]
    }
   ],
   "source": [
    "import deeplabcut"
   ]
  },
  {
   "cell_type": "code",
   "execution_count": 3,
   "id": "6ea94dcf",
   "metadata": {},
   "outputs": [
    {
     "name": "stdout",
     "output_type": "stream",
     "text": [
      "Created \"/Users/iandavenport/work/research/swinging/swing_test-ian-2022-06-24/videos\"\n",
      "Created \"/Users/iandavenport/work/research/swinging/swing_test-ian-2022-06-24/labeled-data\"\n",
      "Created \"/Users/iandavenport/work/research/swinging/swing_test-ian-2022-06-24/training-datasets\"\n",
      "Created \"/Users/iandavenport/work/research/swinging/swing_test-ian-2022-06-24/dlc-models\"\n",
      "Copying the videos\n",
      "/Users/iandavenport/work/research/swinging/swing_test-ian-2022-06-24/videos/kiiker.mov\n",
      "Generated \"/Users/iandavenport/work/research/swinging/swing_test-ian-2022-06-24/config.yaml\"\n",
      "\n",
      "A new project with name swing_test-ian-2022-06-24 is created at /Users/iandavenport/work/research/swinging and a configurable file (config.yaml) is stored there. Change the parameters in this file to adapt to your project's needs.\n",
      " Once you have changed the configuration file, use the function 'extract_frames' to select frames for labeling.\n",
      ". [OPTIONAL] Use the function 'add_new_videos' to add new videos to your project (at any stage).\n"
     ]
    }
   ],
   "source": [
    "config_path = deeplabcut.create_new_project(\n",
    "    \"swing_test\",\n",
    "    \"ian\",\n",
    "    [\"/Users/iandavenport/work/research/swinging/kiiker.mov\"],\n",
    "    copy_videos=True,\n",
    ")"
   ]
  },
  {
   "cell_type": "code",
   "execution_count": null,
   "id": "9b170ac0",
   "metadata": {},
   "outputs": [],
   "source": []
  }
 ],
 "metadata": {
  "kernelspec": {
   "display_name": "deeplabcut",
   "language": "python",
   "name": "deeplabcut"
  },
  "language_info": {
   "codemirror_mode": {
    "name": "ipython",
    "version": 3
   },
   "file_extension": ".py",
   "mimetype": "text/x-python",
   "name": "python",
   "nbconvert_exporter": "python",
   "pygments_lexer": "ipython3",
   "version": "3.8.13"
  }
 },
 "nbformat": 4,
 "nbformat_minor": 5
}
