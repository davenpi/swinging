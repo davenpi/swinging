{
 "cells": [
  {
   "cell_type": "code",
   "execution_count": null,
   "id": "27c78945",
   "metadata": {},
   "outputs": [],
   "source": [
    "import matplotlib.pyplot as plt\n",
    "import numpy as np"
   ]
  },
  {
   "cell_type": "code",
   "execution_count": null,
   "id": "bf2c6126",
   "metadata": {},
   "outputs": [],
   "source": [
    "arr = np.genfromtxt(\"run-PPO_3-tag-rollout_ep_rew_mean.csv\", delimiter=\",\", dtype=str)"
   ]
  },
  {
   "cell_type": "code",
   "execution_count": null,
   "id": "a3ebfb6d",
   "metadata": {},
   "outputs": [],
   "source": [
    "step_count = arr[:, 1][1:]"
   ]
  },
  {
   "cell_type": "code",
   "execution_count": null,
   "id": "784e8ca1",
   "metadata": {},
   "outputs": [],
   "source": [
    "step_count = np.array(list(map(int, step_count)))"
   ]
  },
  {
   "cell_type": "code",
   "execution_count": null,
   "id": "0178d395",
   "metadata": {},
   "outputs": [],
   "source": [
    "rew = arr[:, 2][1:]\n",
    "rew = np.array(list(map(float, rew)))"
   ]
  },
  {
   "cell_type": "code",
   "execution_count": null,
   "id": "1fe063bf",
   "metadata": {},
   "outputs": [],
   "source": [
    "plt.figure(figsize=(8, 8))\n",
    "plt.plot(step_count, rew)\n",
    "plt.grid()\n",
    "plt.xlabel(\"Step Count\", fontdict={\"fontsize\": 15})\n",
    "plt.ylabel(\"Reward\", fontdict={\"fontsize\": 15})\n",
    "plt.title(\"Learning Curve\", fontdict={\"fontsize\": 15})\n",
    "plt.savefig(\"learning_curve.png\")\n",
    "# plt.show()"
   ]
  },
  {
   "cell_type": "code",
   "execution_count": null,
   "id": "7d6cf43c",
   "metadata": {},
   "outputs": [],
   "source": []
  }
 ],
 "metadata": {
  "kernelspec": {
   "display_name": "deeplabcut",
   "language": "python",
   "name": "deeplabcut"
  },
  "language_info": {
   "codemirror_mode": {
    "name": "ipython",
    "version": 3
   },
   "file_extension": ".py",
   "mimetype": "text/x-python",
   "name": "python",
   "nbconvert_exporter": "python",
   "pygments_lexer": "ipython3",
   "version": "3.8.13"
  }
 },
 "nbformat": 4,
 "nbformat_minor": 5
}
