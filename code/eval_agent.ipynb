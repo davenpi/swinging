{
 "cells": [
  {
   "cell_type": "code",
   "execution_count": null,
   "id": "7eb62f17",
   "metadata": {},
   "outputs": [],
   "source": [
    "import non_dim_lderiv_control as ld\n",
    "# import energy_reward as ld\n",
    "import copy\n",
    "import gym\n",
    "import numpy as np\n",
    "import pandas as pd\n",
    "import scipy.integrate as si\n",
    "import matplotlib.pyplot as plt\n",
    "from scipy.signal import savgol_filter\n",
    "from stable_baselines3 import A2C, PPO, SAC, TD3, DQN\n",
    "from stable_baselines3.common.evaluation import evaluate_policy\n",
    "from stable_baselines3.common.callbacks import CheckpointCallback"
   ]
  },
  {
   "cell_type": "code",
   "execution_count": null,
   "id": "aa84a9f9",
   "metadata": {},
   "outputs": [],
   "source": [
    "lmin = 0.95\n",
    "lmax = 1.05\n",
    "phi_0 = np.pi / 4\n",
    "phidot_0 = 0\n",
    "tau = .125\n",
    "ldot_max = 0.1\n",
    "power_max = 100\n",
    "rtol = 0.02"
   ]
  },
  {
   "cell_type": "code",
   "execution_count": null,
   "id": "49f3c9b8",
   "metadata": {},
   "outputs": [],
   "source": [
    "power_bounded = power_max < 1\n",
    "env = ld.Swing(power_bounded=power_bounded)\n",
    "env.ldot_max = ldot_max\n",
    "env.lmin = lmin\n",
    "env.lmax = lmax\n",
    "env.ldot_max = ldot_max\n",
    "env.phi_0 = phi_0\n",
    "env.phidot_0 = phidot_0\n",
    "env.tau = tau\n",
    "env.power_max = power_max\n",
    "env.rtol = rtol"
   ]
  },
  {
   "cell_type": "code",
   "execution_count": null,
   "id": "faca2819",
   "metadata": {},
   "outputs": [],
   "source": [
    "env.observation_space"
   ]
  },
  {
   "cell_type": "code",
   "execution_count": null,
   "id": "a6dd7630",
   "metadata": {},
   "outputs": [],
   "source": [
    "env.step??"
   ]
  },
  {
   "cell_type": "code",
   "execution_count": null,
   "id": "b6f8cc86",
   "metadata": {},
   "outputs": [],
   "source": [
    "checkpoint_callback = CheckpointCallback(\n",
    "    save_freq=50_000,\n",
    "    save_path=\"./ebounded_models_test/\",\n",
    "    name_prefix=\"rl_model\",\n",
    ")"
   ]
  },
  {
   "cell_type": "code",
   "execution_count": null,
   "id": "b1c9d4c1",
   "metadata": {},
   "outputs": [],
   "source": [
    "# policy_kwargs = dict(net_arch=dict(pi=[256, 256]))\n",
    "# model = SAC(\"MlpPolicy\", env, verbose=1, tensorboard_log=\"min_time_logs/\") \n",
    "model = PPO(\"MlpPolicy\", env, verbose=1, tensorboard_log=\"ebounded_logs_test/\")\n",
    "# model = PPO.load(\"energy_unbounded_models/rl_model_400000_steps.zip\", env = env, tensorboard_log=\"time_unbounded_logs/\")\n",
    "model.learn(total_timesteps=6e5, callback=checkpoint_callback)"
   ]
  },
  {
   "cell_type": "code",
   "execution_count": null,
   "id": "65f71f70",
   "metadata": {},
   "outputs": [],
   "source": [
    "env = ld.Swing(power_bounded=power_bounded)\n",
    "env.ldot_max = ldot_max\n",
    "env.lmin = lmin\n",
    "env.lmax = lmax\n",
    "# env.L = [env.lmax]\n",
    "env.ldot_max = ldot_max\n",
    "env.phi_0 = phi_0\n",
    "env.phidot_0 = phidot_0\n",
    "env.power_max = power_max\n",
    "env.tau = 0.005 # tau/200\n",
    "env.pump_limit = 500e3\n",
    "env.rtol = 0.001\n",
    "model = PPO.load(\"time_unbounded_models/rl_model_450000_steps.zip\", env=env)"
   ]
  },
  {
   "cell_type": "code",
   "execution_count": null,
   "id": "512583a2",
   "metadata": {},
   "outputs": [],
   "source": [
    "done = False\n",
    "obs = env.reset()\n",
    "env.L = [env.lmax]\n",
    "while not done:\n",
    "    action, _states = model.predict(obs, deterministic=True)\n",
    "    obs, reward, done, _ = env.step(action.item())\n",
    "\n",
    "phi_hist = np.array(env.phi)\n",
    "l_hist = np.array(env.L)\n",
    "\n",
    "x_t = l_hist * np.sin(phi_hist)\n",
    "y_t = -l_hist * np.cos(phi_hist)\n",
    "ref_x = np.array(env.lmax) * np.sin(env.phi)\n",
    "ref_y = -np.array(env.lmax) * np.cos(env.phi)"
   ]
  },
  {
   "cell_type": "code",
   "execution_count": null,
   "id": "2e87e969",
   "metadata": {},
   "outputs": [],
   "source": [
    "fontdict = {\"fontsize\": 16}\n",
    "plt.plot(\n",
    "    env.tau * np.arange(len(env.phi)), np.mod(np.array(env.phi) + np.pi, 2 * np.pi)\n",
    ")\n",
    "plt.yticks([0, np.pi, 2 * np.pi], [\"0\", r\"$\\pi$\", r\"2$\\pi$\"])\n",
    "plt.xlabel(\"Time\", fontdict=fontdict)\n",
    "plt.ylabel(\"Angle\", fontdict=fontdict)\n",
    "plt.title(\"Angle over time\", fontdict=fontdict)\n",
    "#plt.savefig(\"theta.png\")"
   ]
  },
  {
   "cell_type": "code",
   "execution_count": null,
   "id": "0a3cc72b",
   "metadata": {},
   "outputs": [],
   "source": [
    "plt.plot(env.tau * np.arange(len(env.phi)), env.L)\n",
    "plt.xlabel(\"Time\", fontdict=fontdict)\n",
    "plt.ylabel(\"Length\", fontdict=fontdict)\n",
    "plt.title(\"Length over time\", fontdict=fontdict)\n",
    "#plt.savefig(\"length.png\")\n",
    "plt.show()"
   ]
  },
  {
   "cell_type": "code",
   "execution_count": null,
   "id": "6f7baec4",
   "metadata": {},
   "outputs": [],
   "source": [
    "fig, ax1 = plt.subplots(figsize=(14, 10))\n",
    "\n",
    "ax2 = ax1.twinx()\n",
    "ax1.plot(\n",
    "    env.tau* np.arange(len(env.phi)),\n",
    "    np.mod(np.array(env.phi) + np.pi, 2 * np.pi),\n",
    "    \"g-\",\n",
    ")\n",
    "ax2.plot(env.tau* np.arange(len(env.phi)), env.L, \"k--\")\n",
    "\n",
    "ax1.set_xlabel(\"Time\", fontsize=16)\n",
    "ax1.set_ylabel(\"Angles\", color=\"g\", fontsize=16)\n",
    "ax2.set_ylabel(\"Lengths\", color=\"k\", fontsize=16)\n",
    "\n",
    "plt.title(\"Lengths and Angles over time\", fontsize=16)\n",
    "#plt.savefig(\"overlay.png\")"
   ]
  },
  {
   "cell_type": "code",
   "execution_count": null,
   "id": "05a68220",
   "metadata": {},
   "outputs": [],
   "source": [
    "t = env.tau * np.arange(len(env.phi))#[:-1]\n",
    "phi = np.mod(np.array(env.phi) + np.pi, 2 * np.pi)#[:-1]\n",
    "l_dot_hist_t = env.tau * np.arange(len(env.Ldot_hist))#[:-1]\n",
    "l_dot_hist = env.Ldot_hist#[:-1]\n",
    "# smooth_angle = savgol_filter(phi, 9, 2)"
   ]
  },
  {
   "cell_type": "code",
   "execution_count": null,
   "id": "ed0cab44",
   "metadata": {},
   "outputs": [],
   "source": [
    "fig, ax1 = plt.subplots(figsize=(12, 7))\n",
    "\n",
    "ax2 = ax1.twinx()\n",
    "ax1.plot(t[:], phi[:] - np.pi, \"b\")\n",
    "ax2.plot(l_dot_hist_t, l_dot_hist, \"k--\")\n",
    "\n",
    "ax1.set_xlabel(\"t\", fontsize=16)\n",
    "ax1.set_ylabel(r\"$\\theta$\", fontsize=16, color=\"b\", rotation=0)\n",
    "ax1.set_yticks([-np.pi, -np.pi / 2, 0, np.pi / 2, np.pi])\n",
    "ax1.set_yticklabels([r\"-$\\pi$\", \"-$\\pi/2$\", \"0\", \"$\\pi/2$\", r\"$\\pi$\"])\n",
    "ax2.set_ylabel(r\"$u = \\frac{dL}{dt}$\", color=\"k\", fontsize=16, rotation=0)\n",
    "\n",
    "plt.title(\"Control and Angle over time\", fontsize=20)\n",
    "# plt.show()\n",
    "#plt.savefig(\"control_overlay.png\")"
   ]
  },
  {
   "cell_type": "code",
   "execution_count": null,
   "id": "8c9a0d63",
   "metadata": {},
   "outputs": [],
   "source": [
    "control_dict = {\"time\": l_dot_hist_t, \"control\": l_dot_hist}\n",
    "angle_dict = {\"time\": t, \"angle\": phi - np.pi}"
   ]
  },
  {
   "cell_type": "code",
   "execution_count": null,
   "id": "3a145495",
   "metadata": {},
   "outputs": [],
   "source": [
    "control_angle_dict = {\"time\": l_dot_hist_t, \"control\": l_dot_hist, \"angle\": phi-np.pi}\n",
    "control_angle_df = pd.DataFrame(control_angle_dict)"
   ]
  },
  {
   "cell_type": "code",
   "execution_count": null,
   "id": "e9b91832",
   "metadata": {},
   "outputs": [],
   "source": [
    "# ang_df = pd.DataFrame(angle_dict)\n",
    "# ctrl_df = pd.DataFrame(control_dict)"
   ]
  },
  {
   "cell_type": "code",
   "execution_count": null,
   "id": "ef9257ac",
   "metadata": {},
   "outputs": [],
   "source": [
    "env.pumps*env.tau"
   ]
  },
  {
   "cell_type": "code",
   "execution_count": null,
   "id": "8136855b",
   "metadata": {},
   "outputs": [],
   "source": [
    "env.pumps"
   ]
  },
  {
   "cell_type": "code",
   "execution_count": null,
   "id": "1938af16",
   "metadata": {},
   "outputs": [],
   "source": [
    "env.phi[-1]"
   ]
  },
  {
   "cell_type": "code",
   "execution_count": null,
   "id": "f71fa3e7",
   "metadata": {},
   "outputs": [],
   "source": [
    "(env.target - env.phi[-1])/env.target"
   ]
  },
  {
   "cell_type": "code",
   "execution_count": null,
   "id": "2228c388",
   "metadata": {},
   "outputs": [],
   "source": [
    "control_angle_df.tail()"
   ]
  },
  {
   "cell_type": "code",
   "execution_count": null,
   "id": "8de627e5",
   "metadata": {},
   "outputs": [],
   "source": [
    "control_angle_df.to_csv(\"unbounded_control_angle.csv\")"
   ]
  },
  {
   "cell_type": "code",
   "execution_count": null,
   "id": "f4a32a1f",
   "metadata": {},
   "outputs": [],
   "source": []
  }
 ],
 "metadata": {
  "kernelspec": {
   "display_name": "swinging",
   "language": "python",
   "name": "swinging"
  },
  "language_info": {
   "codemirror_mode": {
    "name": "ipython",
    "version": 3
   },
   "file_extension": ".py",
   "mimetype": "text/x-python",
   "name": "python",
   "nbconvert_exporter": "python",
   "pygments_lexer": "ipython3",
   "version": "3.7.4"
  }
 },
 "nbformat": 4,
 "nbformat_minor": 5
}
