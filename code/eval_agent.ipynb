{
 "cells": [
  {
   "cell_type": "code",
   "execution_count": null,
   "id": "43292c89",
   "metadata": {},
   "outputs": [],
   "source": [
    "import non_dim_lderiv_control as ld\n",
    "import copy\n",
    "import gym\n",
    "import numpy as np\n",
    "import scipy.integrate as si\n",
    "import matplotlib.pyplot as plt\n",
    "from stable_baselines3 import PPO\n",
    "from stable_baselines3.common.env_checker import check_env\n",
    "from stable_baselines3.common.evaluation import evaluate_policy\n",
    "from stable_baselines3.common.callbacks import CheckpointCallback\n",
    "from scipy.signal import savgol_filter"
   ]
  },
  {
   "cell_type": "code",
   "execution_count": null,
   "id": "9d0d6948",
   "metadata": {},
   "outputs": [],
   "source": [
    "env = ld.Swing()"
   ]
  },
  {
   "cell_type": "code",
   "execution_count": null,
   "id": "9b21159a",
   "metadata": {},
   "outputs": [],
   "source": [
    "# Save a checkpoint every save_freq steps\n",
    "checkpoint_callback = CheckpointCallback(\n",
    "    save_freq=50_000,\n",
    "    save_path=\"./logs/\",\n",
    "    name_prefix=\"rl_model\",\n",
    ")"
   ]
  },
  {
   "cell_type": "code",
   "execution_count": null,
   "id": "1c9eeb40",
   "metadata": {},
   "outputs": [],
   "source": [
    "model = PPO(\"MlpPolicy\", env, verbose=1, tensorboard_log=\"tb_logs/\")\n",
    "# model.save(\"logs/rl_model_0_steps\")\n",
    "model.learn(total_timesteps=2.5e5, callback=checkpoint_callback)"
   ]
  },
  {
   "cell_type": "code",
   "execution_count": null,
   "id": "ca4e97fd",
   "metadata": {},
   "outputs": [],
   "source": [
    "# model.save(\"trained_model_new\")\n",
    "# del model\n",
    "env = ld.Swing()\n",
    "model = PPO.load(\"logs/rl_model_250000_steps.zip\", env=env)"
   ]
  },
  {
   "cell_type": "code",
   "execution_count": null,
   "id": "339c3442",
   "metadata": {},
   "outputs": [],
   "source": [
    "done = False\n",
    "obs = env.reset()\n",
    "while not done:\n",
    "    action, _states = model.predict(obs)\n",
    "    obs, reward, done, _ = env.step(action)\n",
    "\n",
    "phi_hist = np.array(env.phi)\n",
    "l_hist = np.array(env.L)\n",
    "\n",
    "x_t = l_hist * np.sin(phi_hist)\n",
    "y_t = -l_hist * np.cos(phi_hist)\n",
    "ref_x = np.array(env.lmax) * np.sin(env.phi)\n",
    "ref_y = -np.array(env.lmax) * np.cos(env.phi)"
   ]
  },
  {
   "cell_type": "code",
   "execution_count": null,
   "id": "fd69d364",
   "metadata": {},
   "outputs": [],
   "source": [
    "fontdict = {\"fontsize\": 16}\n",
    "plt.plot(\n",
    "    env.tau / 2 * np.arange(len(env.phi)), np.mod(np.array(env.phi) + np.pi, 2 * np.pi)\n",
    ")\n",
    "plt.yticks([0, np.pi, 2 * np.pi], [\"0\", r\"$\\pi$\", r\"2$\\pi$\"])\n",
    "plt.xlabel(\"Time\", fontdict=fontdict)\n",
    "plt.ylabel(\"Angle\", fontdict=fontdict)\n",
    "plt.title(\"Angle over time\", fontdict=fontdict)\n",
    "plt.savefig(\"theta.png\")"
   ]
  },
  {
   "cell_type": "code",
   "execution_count": null,
   "id": "08d61880",
   "metadata": {},
   "outputs": [],
   "source": [
    "plt.plot(env.tau / 2 * np.arange(len(env.phi)), env.L)\n",
    "plt.xlabel(\"Time\", fontdict=fontdict)\n",
    "plt.ylabel(\"Length\", fontdict=fontdict)\n",
    "plt.title(\"Length over time\", fontdict=fontdict)\n",
    "plt.savefig(\"length.png\")\n",
    "plt.show()"
   ]
  },
  {
   "cell_type": "code",
   "execution_count": null,
   "id": "487ab2a6",
   "metadata": {},
   "outputs": [],
   "source": [
    "fig, ax1 = plt.subplots(figsize=(14, 10))\n",
    "\n",
    "ax2 = ax1.twinx()\n",
    "ax1.plot(\n",
    "    env.tau / 2 * np.arange(len(env.phi)),\n",
    "    np.mod(np.array(env.phi) + np.pi, 2 * np.pi),\n",
    "    \"g-\",\n",
    ")\n",
    "ax2.plot(env.tau / 2 * np.arange(len(env.phi)), env.L, \"k--\")\n",
    "\n",
    "ax1.set_xlabel(\"Time\", fontsize=16)\n",
    "ax1.set_ylabel(\"Angles\", color=\"g\", fontsize=16)\n",
    "ax2.set_ylabel(\"Lengths\", color=\"k\", fontsize=16)\n",
    "\n",
    "plt.title(\"Lengths and Angles over time\", fontsize=16)\n",
    "plt.savefig(\"overlay.png\")"
   ]
  },
  {
   "cell_type": "code",
   "execution_count": null,
   "id": "d427b36b",
   "metadata": {},
   "outputs": [],
   "source": [
    "fig, ax1 = plt.subplots(figsize=(14, 10))\n",
    "\n",
    "ax2 = ax1.twinx()\n",
    "ax1.plot(\n",
    "    env.tau / 2 * np.arange(len(env.phi))[:-1],\n",
    "    np.mod(np.array(env.phi) + np.pi, 2 * np.pi)[:-1],\n",
    "    \"g-\",\n",
    ")\n",
    "ax2.plot(env.tau * np.arange(len(env.Ldot_hist))[:-1], env.Ldot_hist[:-1], \"k--\")\n",
    "\n",
    "ax1.set_xlabel(\"Time\", fontsize=16)\n",
    "ax1.set_ylabel(\"Angles\", color=\"g\", fontsize=16)\n",
    "ax2.set_ylabel(r\"$u = \\frac{dL}{dt}$\", color=\"k\", fontsize=16)\n",
    "\n",
    "plt.title(\"Control and Angles over time\", fontsize=16)\n",
    "plt.savefig(\"control_overlay.png\")"
   ]
  },
  {
   "cell_type": "code",
   "execution_count": null,
   "id": "3b874ab7",
   "metadata": {},
   "outputs": [],
   "source": []
  },
  {
   "cell_type": "code",
   "execution_count": null,
   "id": "3f7c148b",
   "metadata": {},
   "outputs": [],
   "source": [
    "t = env.tau / 2 * np.arange(len(env.phi))[:-1]\n",
    "phi = np.mod(np.array(env.phi) + np.pi, 2 * np.pi)[:-1]\n",
    "l_dot_hist_t = env.tau * np.arange(len(env.Ldot_hist))[:-1]\n",
    "l_dot_hist = env.Ldot_hist[:-1]\n",
    "smooth_angle = savgol_filter(phi, 7, 2)"
   ]
  },
  {
   "cell_type": "code",
   "execution_count": null,
   "id": "0fa8610d",
   "metadata": {},
   "outputs": [],
   "source": [
    "plt.plot(t, phi - np.pi)\n",
    "plt.plot(l_dot_hist_t, l_dot_hist)"
   ]
  },
  {
   "cell_type": "code",
   "execution_count": null,
   "id": "bfd8e7e8",
   "metadata": {},
   "outputs": [],
   "source": [
    "fig, ax1 = plt.subplots(figsize=(14, 10))\n",
    "\n",
    "ax2 = ax1.twinx()\n",
    "ax1.plot(t, smooth_angle - np.pi, \"b\")\n",
    "ax2.plot(l_dot_hist_t, l_dot_hist, \"k--\")\n",
    "\n",
    "ax1.set_xlabel(\"t\", fontsize=16)\n",
    "ax1.set_ylabel(r\"$\\theta$\", fontsize=16, color=\"b\", rotation=0)\n",
    "ax1.set_yticks([-np.pi, -np.pi / 2, 0, np.pi / 2, np.pi])\n",
    "ax1.set_yticklabels([r\"-$\\pi$\", \"-$\\pi/2$\", \"0\", \"$\\pi/2$\", r\"$\\pi$\"])\n",
    "ax2.set_ylabel(r\"$u = \\frac{dL}{dt}$\", color=\"k\", fontsize=16, rotation=0)\n",
    "\n",
    "plt.title(\"Control and Angle over time\", fontsize=20)\n",
    "# plt.show()\n",
    "plt.savefig(\"control_overlay.png\")"
   ]
  },
  {
   "cell_type": "code",
   "execution_count": null,
   "id": "74158002",
   "metadata": {},
   "outputs": [],
   "source": []
  },
  {
   "cell_type": "code",
   "execution_count": null,
   "id": "3d811017",
   "metadata": {},
   "outputs": [],
   "source": []
  }
 ],
 "metadata": {
  "kernelspec": {
   "display_name": "swinging",
   "language": "python",
   "name": "swinging"
  },
  "language_info": {
   "codemirror_mode": {
    "name": "ipython",
    "version": 3
   },
   "file_extension": ".py",
   "mimetype": "text/x-python",
   "name": "python",
   "nbconvert_exporter": "python",
   "pygments_lexer": "ipython3",
   "version": "3.7.4"
  }
 },
 "nbformat": 4,
 "nbformat_minor": 5
}
