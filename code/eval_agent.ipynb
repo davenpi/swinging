{
 "cells": [
  {
   "cell_type": "code",
   "execution_count": null,
   "id": "de94296e",
   "metadata": {},
   "outputs": [],
   "source": [
    "import non_dim_lderiv_control as ld\n",
    "import copy\n",
    "import gym\n",
    "import numpy as np\n",
    "import pandas as pd\n",
    "import scipy.integrate as si\n",
    "import matplotlib.pyplot as plt\n",
    "from scipy.signal import savgol_filter\n",
    "from stable_baselines3 import PPO, SAC\n",
    "from stable_baselines3.common.evaluation import evaluate_policy\n",
    "from stable_baselines3.common.callbacks import CheckpointCallback"
   ]
  },
  {
   "cell_type": "code",
   "execution_count": null,
   "id": "bbf3ea70",
   "metadata": {},
   "outputs": [],
   "source": [
    "lmin = 0.9\n",
    "lmax = 1.1\n",
    "phi_0 = np.pi / 8\n",
    "phidot_0 = 0\n",
    "tau = 0.25  # (lmax - lmin) / 4\n",
    "ldot_max = 0.25\n",
    "power_max = .25"
   ]
  },
  {
   "cell_type": "markdown",
   "id": "be2621cf",
   "metadata": {},
   "source": [
    "best working: \n",
    "\n",
    "lmin = 4.5, lmax = 5.5. u_max = .7,  $\\theta_0 = \\pi/9$\n",
    "\n",
    "lmin = 0.8, lmax = 1.2, u_max = .25, $\\theta_0 = \\pi/9$, $\\tau = 0.25$ <- no power bound\n",
    "\n",
    "lmin = 0.8, lmax = 1.2, u_max = 0.5, $\\theta_0 = \\pi/16$, $\\tau = 0.25$ <- with power bound. gets it halfway right"
   ]
  },
  {
   "cell_type": "code",
   "execution_count": null,
   "id": "57e04d37",
   "metadata": {},
   "outputs": [],
   "source": [
    "env = ld.Swing()\n",
    "env.ldot_max = ldot_max\n",
    "env.lmin = lmin\n",
    "env.lmax = lmax\n",
    "env.ldot_max = ldot_max\n",
    "env.phi_0 = phi_0\n",
    "env.phidot_0 = phidot_0\n",
    "env.tau = tau\n",
    "env.power_max = power_max"
   ]
  },
  {
   "cell_type": "code",
   "execution_count": null,
   "id": "5932cfd5",
   "metadata": {},
   "outputs": [],
   "source": [
    "checkpoint_callback = CheckpointCallback(\n",
    "    save_freq=25_000,\n",
    "    save_path=\"./w_power_logs/\",\n",
    "    name_prefix=\"rl_model\",\n",
    ")"
   ]
  },
  {
   "cell_type": "code",
   "execution_count": null,
   "id": "b8f4ddea",
   "metadata": {},
   "outputs": [],
   "source": [
    "# model = PPO(\"MlpPolicy\", env, verbose=1, tensorboard_log=\"tb_logs/\")\n",
    "model = SAC(\"MlpPolicy\", env, verbose=1, tensorboard_log=\"tb_logs/\")\n",
    "# model = SAC.load(\"w_power_logs/rl_model_150000_steps.zip\", env=env)\n",
    "# model.save(\"logs/rl_model_0_steps\")\n",
    "model.learn(total_timesteps=3e5, callback=checkpoint_callback)"
   ]
  },
  {
   "cell_type": "code",
   "execution_count": null,
   "id": "648103c8",
   "metadata": {},
   "outputs": [],
   "source": [
    "env = ld.Swing()\n",
    "env.ldot_max = ldot_max\n",
    "env.lmin = lmin\n",
    "env.lmax = lmax\n",
    "env.ldot_max = ldot_max\n",
    "env.phi_0 = phi_0\n",
    "env.phidot_0 = phidot_0\n",
    "env.power_max = power_max\n",
    "env.tau = tau / 500\n",
    "env.pump_limit = 200e3\n",
    "model = SAC.load(\"w_power_logs/rl_model_300000_steps\", env=env)"
   ]
  },
  {
   "cell_type": "code",
   "execution_count": null,
   "id": "3f53be7a",
   "metadata": {},
   "outputs": [],
   "source": [
    "done = False\n",
    "obs = env.reset()\n",
    "while not done:\n",
    "    action, _states = model.predict(obs, deterministic=True)\n",
    "    obs, reward, done, _ = env.step(action)\n",
    "\n",
    "phi_hist = np.array(env.phi)\n",
    "l_hist = np.array(env.L)\n",
    "\n",
    "x_t = l_hist * np.sin(phi_hist)\n",
    "y_t = -l_hist * np.cos(phi_hist)\n",
    "ref_x = np.array(env.lmax) * np.sin(env.phi)\n",
    "ref_y = -np.array(env.lmax) * np.cos(env.phi)"
   ]
  },
  {
   "cell_type": "code",
   "execution_count": null,
   "id": "a451d1a5",
   "metadata": {},
   "outputs": [],
   "source": [
    "fontdict = {\"fontsize\": 16}\n",
    "plt.plot(\n",
    "    env.tau / 2 * np.arange(len(env.phi)), np.mod(np.array(env.phi) + np.pi, 2 * np.pi)\n",
    ")\n",
    "plt.yticks([0, np.pi, 2 * np.pi], [\"0\", r\"$\\pi$\", r\"2$\\pi$\"])\n",
    "plt.xlabel(\"Time\", fontdict=fontdict)\n",
    "plt.ylabel(\"Angle\", fontdict=fontdict)\n",
    "plt.title(\"Angle over time\", fontdict=fontdict)\n",
    "plt.savefig(\"theta.png\")"
   ]
  },
  {
   "cell_type": "code",
   "execution_count": null,
   "id": "f6bec529",
   "metadata": {},
   "outputs": [],
   "source": [
    "plt.plot(env.tau / 2 * np.arange(len(env.phi)), env.L)\n",
    "plt.xlabel(\"Time\", fontdict=fontdict)\n",
    "plt.ylabel(\"Length\", fontdict=fontdict)\n",
    "plt.title(\"Length over time\", fontdict=fontdict)\n",
    "plt.savefig(\"length.png\")\n",
    "plt.show()"
   ]
  },
  {
   "cell_type": "code",
   "execution_count": null,
   "id": "beaeeeda",
   "metadata": {},
   "outputs": [],
   "source": [
    "fig, ax1 = plt.subplots(figsize=(14, 10))\n",
    "\n",
    "ax2 = ax1.twinx()\n",
    "ax1.plot(\n",
    "    env.tau / 2 * np.arange(len(env.phi)),\n",
    "    np.mod(np.array(env.phi) + np.pi, 2 * np.pi),\n",
    "    \"g-\",\n",
    ")\n",
    "ax2.plot(env.tau / 2 * np.arange(len(env.phi)), env.L, \"k--\")\n",
    "\n",
    "ax1.set_xlabel(\"Time\", fontsize=16)\n",
    "ax1.set_ylabel(\"Angles\", color=\"g\", fontsize=16)\n",
    "ax2.set_ylabel(\"Lengths\", color=\"k\", fontsize=16)\n",
    "\n",
    "plt.title(\"Lengths and Angles over time\", fontsize=16)\n",
    "plt.savefig(\"overlay.png\")"
   ]
  },
  {
   "cell_type": "code",
   "execution_count": null,
   "id": "2933dc48",
   "metadata": {},
   "outputs": [],
   "source": [
    "fig, ax1 = plt.subplots(figsize=(14, 10))\n",
    "\n",
    "ax2 = ax1.twinx()\n",
    "ax1.plot(\n",
    "    env.tau / 2 * np.arange(len(env.phi))[:-1],\n",
    "    np.mod(np.array(env.phi) + np.pi, 2 * np.pi)[:-1],\n",
    "    \"g-\",\n",
    ")\n",
    "ax2.plot(env.tau * np.arange(len(env.Ldot_hist))[:-1] / 2, env.Ldot_hist[:-1], \"k--\")\n",
    "\n",
    "ax1.set_xlabel(\"Time\", fontsize=16)\n",
    "ax1.set_ylabel(\"Angles\", color=\"g\", fontsize=16)\n",
    "ax2.set_ylabel(r\"$u = \\frac{dL}{dt}$\", color=\"k\", fontsize=16)\n",
    "\n",
    "plt.title(\"Control and Angles over time\", fontsize=16)\n",
    "plt.savefig(\"control_overlay.png\")"
   ]
  },
  {
   "cell_type": "code",
   "execution_count": null,
   "id": "dd6a0f05",
   "metadata": {},
   "outputs": [],
   "source": [
    "t = env.tau / 2 * np.arange(len(env.phi))[:-1]\n",
    "phi = np.mod(np.array(env.phi) + np.pi, 2 * np.pi)[:-1]\n",
    "l_dot_hist_t = env.tau * np.arange(len(env.Ldot_hist))[:-1]\n",
    "l_dot_hist = env.Ldot_hist[:-1]\n",
    "smooth_angle = savgol_filter(phi, 9, 2)"
   ]
  },
  {
   "cell_type": "code",
   "execution_count": null,
   "id": "7b50a7ce",
   "metadata": {},
   "outputs": [],
   "source": [
    "fig, ax1 = plt.subplots(figsize=(12, 7))\n",
    "\n",
    "ax2 = ax1.twinx()\n",
    "ax1.plot(t[:], smooth_angle[:] - np.pi, \"b\")\n",
    "ax2.plot(l_dot_hist_t / 2, l_dot_hist, \"k--\")\n",
    "\n",
    "ax1.set_xlabel(\"t\", fontsize=16)\n",
    "ax1.set_ylabel(r\"$\\theta$\", fontsize=16, color=\"b\", rotation=0)\n",
    "ax1.set_yticks([-np.pi, -np.pi / 2, 0, np.pi / 2, np.pi])\n",
    "ax1.set_yticklabels([r\"-$\\pi$\", \"-$\\pi/2$\", \"0\", \"$\\pi/2$\", r\"$\\pi$\"])\n",
    "ax2.set_ylabel(r\"$u = \\frac{dL}{dt}$\", color=\"k\", fontsize=16, rotation=0)\n",
    "\n",
    "plt.title(\"Control and Angle over time\", fontsize=20)\n",
    "# plt.show()\n",
    "plt.savefig(\"control_overlay.png\")"
   ]
  },
  {
   "cell_type": "code",
   "execution_count": null,
   "id": "1bdf1d32",
   "metadata": {},
   "outputs": [],
   "source": [
    "control_dict = {\"time\": l_dot_hist_t / 2, \"control\": l_dot_hist}\n",
    "angle_dict = {\"time\": t, \"angle\": phi - np.pi}"
   ]
  },
  {
   "cell_type": "code",
   "execution_count": null,
   "id": "9860d299",
   "metadata": {},
   "outputs": [],
   "source": [
    "ang_df = pd.DataFrame(angle_dict)\n",
    "ctrl_df = pd.DataFrame(control_dict)"
   ]
  },
  {
   "cell_type": "code",
   "execution_count": null,
   "id": "e232e50d",
   "metadata": {},
   "outputs": [],
   "source": [
    "ang_df.to_csv(\"power_limit_angle.csv\")\n",
    "ctrl_df.to_csv(\"power_limit_control.csv\")"
   ]
  },
  {
   "cell_type": "code",
   "execution_count": null,
   "id": "cb8b6f22",
   "metadata": {},
   "outputs": [],
   "source": []
  }
 ],
 "metadata": {
  "kernelspec": {
   "display_name": "swinging",
   "language": "python",
   "name": "swinging"
  },
  "language_info": {
   "codemirror_mode": {
    "name": "ipython",
    "version": 3
   },
   "file_extension": ".py",
   "mimetype": "text/x-python",
   "name": "python",
   "nbconvert_exporter": "python",
   "pygments_lexer": "ipython3",
   "version": "3.7.4"
  }
 },
 "nbformat": 4,
 "nbformat_minor": 5
}
