{
 "cells": [
  {
   "cell_type": "code",
   "execution_count": null,
   "id": "4a9a703b",
   "metadata": {},
   "outputs": [],
   "source": [
    "import lderiv_control as ld\n",
    "import copy\n",
    "import gym\n",
    "import numpy as np\n",
    "import scipy.integrate as si\n",
    "import matplotlib.pyplot as plt\n",
    "from stable_baselines3 import PPO, DDPG, A2C, TD3\n",
    "from stable_baselines3.common.env_checker import check_env\n",
    "from stable_baselines3.common.evaluation import evaluate_policy\n",
    "from stable_baselines3.common.callbacks import CheckpointCallback"
   ]
  },
  {
   "cell_type": "code",
   "execution_count": null,
   "id": "a23aeb26",
   "metadata": {},
   "outputs": [],
   "source": [
    "env = ld.Swing()"
   ]
  },
  {
   "cell_type": "code",
   "execution_count": null,
   "id": "6305db3b",
   "metadata": {},
   "outputs": [],
   "source": [
    "# Save a checkpoint every save_freq steps\n",
    "checkpoint_callback = CheckpointCallback(\n",
    "    save_freq=50_000,\n",
    "    save_path=\"./logs/\",\n",
    "    name_prefix=\"rl_model\",\n",
    ")"
   ]
  },
  {
   "cell_type": "code",
   "execution_count": null,
   "id": "e54f369d",
   "metadata": {},
   "outputs": [],
   "source": [
    "model = PPO(\"MlpPolicy\", env, verbose=1)\n",
    "model.save(\"logs/rl_model_0_steps\")\n",
    "model.learn(total_timesteps=2e5, callback=checkpoint_callback)"
   ]
  },
  {
   "cell_type": "code",
   "execution_count": null,
   "id": "460ef51e",
   "metadata": {},
   "outputs": [],
   "source": [
    "model.save(\"trained_model_new\")\n",
    "del model\n",
    "env = ld.Swing()\n",
    "model = PPO.load(\"trained_model_new.zip\", env=env)"
   ]
  },
  {
   "cell_type": "code",
   "execution_count": null,
   "id": "88b873af",
   "metadata": {},
   "outputs": [],
   "source": [
    "done = False\n",
    "obs = env.reset()\n",
    "while not done:\n",
    "    action, _states = model.predict(obs)\n",
    "    obs, reward, done, _ = env.step(action)\n",
    "\n",
    "phi_hist = np.array(env.phi)\n",
    "l_hist = np.array(env.L)\n",
    "\n",
    "x_t = l_hist * np.sin(phi_hist)\n",
    "y_t = -l_hist * np.cos(phi_hist)\n",
    "ref_x = np.array(env.lmax) * np.sin(env.phi)\n",
    "ref_y = -np.array(env.lmax) * np.cos(env.phi)"
   ]
  },
  {
   "cell_type": "code",
   "execution_count": null,
   "id": "b9de67de",
   "metadata": {},
   "outputs": [],
   "source": [
    "fontdict = {\"fontsize\": 16}\n",
    "plt.plot(env.tau / 2 * np.arange(len(env.phi)), env.phi)\n",
    "plt.yticks([0, np.pi, 2 * np.pi], [\"0\", r\"$\\pi$\", r\"2$\\pi$\"])\n",
    "plt.xlabel(\"Time\", fontdict=fontdict)\n",
    "plt.ylabel(\"Angle\", fontdict=fontdict)\n",
    "plt.title(\"Angle over time\", fontdict=fontdict)\n",
    "plt.savefig(\"theta.png\")"
   ]
  },
  {
   "cell_type": "code",
   "execution_count": null,
   "id": "263a9a80",
   "metadata": {},
   "outputs": [],
   "source": [
    "plt.plot(env.tau / 2 * np.arange(len(env.phi)), env.L)\n",
    "plt.xlabel(\"Time\", fontdict=fontdict)\n",
    "plt.ylabel(\"Length\", fontdict=fontdict)\n",
    "plt.title(\"Length over time\", fontdict=fontdict)\n",
    "plt.savefig(\"length.png\")\n",
    "plt.show()"
   ]
  },
  {
   "cell_type": "code",
   "execution_count": null,
   "id": "7aa7befc",
   "metadata": {},
   "outputs": [],
   "source": [
    "fig, ax1 = plt.subplots(figsize=(14, 10))\n",
    "\n",
    "ax2 = ax1.twinx()\n",
    "ax1.plot(env.tau / 2 * np.arange(len(env.phi)), env.phi, \"g-\")\n",
    "ax2.plot(env.tau / 2 * np.arange(len(env.phi)), env.L, \"k--\")\n",
    "\n",
    "ax1.set_xlabel(\"Time\")\n",
    "ax1.set_ylabel(\"Angles\", color=\"g\")\n",
    "ax2.set_ylabel(\"Lengths\", color=\"k\")\n",
    "\n",
    "plt.title(\"Lengths and Angles over time\")\n",
    "plt.savefig(\"overlay.png\")"
   ]
  },
  {
   "cell_type": "code",
   "execution_count": null,
   "id": "f00ed9c5",
   "metadata": {},
   "outputs": [],
   "source": []
  }
 ],
 "metadata": {
  "kernelspec": {
   "display_name": "swinging",
   "language": "python",
   "name": "swinging"
  },
  "language_info": {
   "codemirror_mode": {
    "name": "ipython",
    "version": 3
   },
   "file_extension": ".py",
   "mimetype": "text/x-python",
   "name": "python",
   "nbconvert_exporter": "python",
   "pygments_lexer": "ipython3",
   "version": "3.7.4"
  }
 },
 "nbformat": 4,
 "nbformat_minor": 5
}
