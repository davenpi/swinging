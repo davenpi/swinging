{
 "cells": [
  {
   "cell_type": "code",
   "execution_count": null,
   "id": "1a5f5e70",
   "metadata": {},
   "outputs": [],
   "source": [
    "import lderiv_control as ld\n",
    "import copy\n",
    "import gym\n",
    "import numpy as np\n",
    "import scipy.integrate as si\n",
    "import matplotlib.pyplot as plt\n",
    "import matplotlib.ticker as tck\n",
    "from stable_baselines3 import PPO, DDPG\n",
    "from stable_baselines3.common.env_checker import check_env\n",
    "from stable_baselines3.common.evaluation import evaluate_policy"
   ]
  },
  {
   "cell_type": "code",
   "execution_count": null,
   "id": "995b7fcd",
   "metadata": {},
   "outputs": [],
   "source": [
    "env = ld.Swing()"
   ]
  },
  {
   "cell_type": "code",
   "execution_count": null,
   "id": "cfa701dc",
   "metadata": {},
   "outputs": [],
   "source": [
    "model = PPO(\"MlpPolicy\", env, verbose=1)\n",
    "model.learn(total_timesteps=2.5e5)"
   ]
  },
  {
   "cell_type": "code",
   "execution_count": null,
   "id": "d7b77ae3",
   "metadata": {},
   "outputs": [],
   "source": [
    "model.save(\"trained_model\")\n",
    "del model\n",
    "env = ld.Swing()\n",
    "model = PPO.load(\"trained_model.zip\", env=env)"
   ]
  },
  {
   "cell_type": "code",
   "execution_count": null,
   "id": "47406e52",
   "metadata": {},
   "outputs": [],
   "source": [
    "done = False\n",
    "obs = env.reset()\n",
    "while not done:\n",
    "    action, _states = model.predict(obs)\n",
    "    obs, reward, done, _ = env.step(action)\n",
    "\n",
    "phi_hist = np.array(env.phi)\n",
    "l_hist = np.array(env.L)\n",
    "\n",
    "x_t = l_hist * np.sin(phi_hist)\n",
    "y_t = -l_hist * np.cos(phi_hist)\n",
    "ref_x = np.array(env.lmax) * np.sin(env.phi)\n",
    "ref_y = -np.array(env.lmax) * np.cos(env.phi)"
   ]
  },
  {
   "cell_type": "code",
   "execution_count": null,
   "id": "447c7fcb",
   "metadata": {},
   "outputs": [],
   "source": []
  },
  {
   "cell_type": "code",
   "execution_count": null,
   "id": "2e0d30a1",
   "metadata": {},
   "outputs": [],
   "source": []
  }
 ],
 "metadata": {
  "kernelspec": {
   "display_name": "swinging",
   "language": "python",
   "name": "swinging"
  },
  "language_info": {
   "codemirror_mode": {
    "name": "ipython",
    "version": 3
   },
   "file_extension": ".py",
   "mimetype": "text/x-python",
   "name": "python",
   "nbconvert_exporter": "python",
   "pygments_lexer": "ipython3",
   "version": "3.7.4"
  }
 },
 "nbformat": 4,
 "nbformat_minor": 5
}
