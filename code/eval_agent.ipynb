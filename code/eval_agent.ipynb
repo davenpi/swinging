{
 "cells": [
  {
   "cell_type": "code",
   "execution_count": null,
   "id": "4f939357",
   "metadata": {},
   "outputs": [],
   "source": [
    "import lderiv_control as ld\n",
    "import copy\n",
    "import gym\n",
    "import numpy as np\n",
    "import scipy.integrate as si\n",
    "import matplotlib.pyplot as plt\n",
    "import matplotlib.ticker as tck\n",
    "from stable_baselines3 import PPO, DDPG\n",
    "from stable_baselines3.common.env_checker import check_env\n",
    "from stable_baselines3.common.evaluation import evaluate_policy\n",
    "from stable_baselines3.common.callbacks import CheckpointCallback"
   ]
  },
  {
   "cell_type": "code",
   "execution_count": null,
   "id": "d6f65761",
   "metadata": {},
   "outputs": [],
   "source": [
    "env = ld.Swing()"
   ]
  },
  {
   "cell_type": "code",
   "execution_count": null,
   "id": "c9ea243f",
   "metadata": {},
   "outputs": [],
   "source": [
    "# Save a checkpoint every 1000 steps\n",
    "checkpoint_callback = CheckpointCallback(\n",
    "    save_freq=10_000,\n",
    "    save_path=\"./logs/\",\n",
    "    name_prefix=\"rl_model\",\n",
    ")"
   ]
  },
  {
   "cell_type": "code",
   "execution_count": null,
   "id": "f11d0827",
   "metadata": {},
   "outputs": [],
   "source": [
    "model = PPO(\"MlpPolicy\", env, verbose=1)\n",
    "# model.learn(total_timesteps=2.5e5, callback=checkpoint_callback)"
   ]
  },
  {
   "cell_type": "code",
   "execution_count": null,
   "id": "d9545892",
   "metadata": {},
   "outputs": [],
   "source": [
    "model.save(\"trained_model_new\")\n",
    "del model\n",
    "env = ld.Swing()\n",
    "model = PPO.load(\"trained_model_new.zip\", env=env)"
   ]
  },
  {
   "cell_type": "code",
   "execution_count": null,
   "id": "027e63fb",
   "metadata": {},
   "outputs": [],
   "source": [
    "done = False\n",
    "obs = env.reset()\n",
    "while not done:\n",
    "    action, _states = model.predict(obs)\n",
    "    obs, reward, done, _ = env.step(action)\n",
    "\n",
    "phi_hist = np.array(env.phi)\n",
    "l_hist = np.array(env.L)\n",
    "\n",
    "x_t = l_hist * np.sin(phi_hist)\n",
    "y_t = -l_hist * np.cos(phi_hist)\n",
    "ref_x = np.array(env.lmax) * np.sin(env.phi)\n",
    "ref_y = -np.array(env.lmax) * np.cos(env.phi)"
   ]
  },
  {
   "cell_type": "code",
   "execution_count": null,
   "id": "a640c955",
   "metadata": {},
   "outputs": [],
   "source": []
  }
 ],
 "metadata": {
  "kernelspec": {
   "display_name": "swinging",
   "language": "python",
   "name": "swinging"
  },
  "language_info": {
   "codemirror_mode": {
    "name": "ipython",
    "version": 3
   },
   "file_extension": ".py",
   "mimetype": "text/x-python",
   "name": "python",
   "nbconvert_exporter": "python",
   "pygments_lexer": "ipython3",
   "version": "3.7.4"
  }
 },
 "nbformat": 4,
 "nbformat_minor": 5
}
