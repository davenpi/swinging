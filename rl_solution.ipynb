{
 "cells": [
  {
   "cell_type": "code",
   "execution_count": 4,
   "id": "2be9e4eb-ea99-4d18-a339-01bff03c8586",
   "metadata": {},
   "outputs": [],
   "source": [
    "import gym\n",
    "import numpy as np\n",
    "import scipy.integrate as si\n",
    "import matplotlib.pyplot as plt\n",
    "from stable_baselines3 import PPO, DDPG\n",
    "from stable_baselines3.common.env_checker import check_env"
   ]
  },
  {
   "cell_type": "code",
   "execution_count": 7,
   "id": "3adb9be5-ba41-4fa9-ac34-145ad2b6f8e3",
   "metadata": {},
   "outputs": [],
   "source": [
    "class Swing(gym.Env):\n",
    "    g = 10\n",
    "\n",
    "    def __init__(\n",
    "        self,\n",
    "        L0: float = 1.0,\n",
    "        phi_0: float = 10.0,\n",
    "        omega_0: float = -1.0,\n",
    "        target_phi: float = np.pi / 2,\n",
    "        dt: float = 0.01,\n",
    "    ):\n",
    "        super(Swing, self).__init__()\n",
    "        self.L0 = L0\n",
    "        self.Lmax = 2 * L0\n",
    "        self.phi_0 = np.deg2rad(phi_0)\n",
    "        self.omega_0 = omega_0\n",
    "        self.phi = []\n",
    "        self.phi.append(self.phi_0)\n",
    "        self.omega = []\n",
    "        self.omega.append(self.omega_0)\n",
    "        self.L = []\n",
    "        self.L.append(self.L0)  # so I can compute first derivative\n",
    "        self.target_phi = target_phi\n",
    "        self.pumps = 0\n",
    "        self.action_space = gym.spaces.Box(low=0, high=1, shape=(1,))\n",
    "        self.observation_space = gym.spaces.Box(low=-10, high=10, shape=(2,))\n",
    "\n",
    "    def evolve(self):\n",
    "        L_dot = (self.L[-1] - self.L[-2]) / self.dt\n",
    "        omega_f = self.omega[-1] - self.dt * (\n",
    "            2 * L_dot / self.L[-1] * self.omega[-1]\n",
    "            + g / self.L[-1] * np.sin(self.phi[-1])\n",
    "        )\n",
    "        self.omega.append(omega_f)\n",
    "        phi_new = self.phi[-1] + self.dt * self.omega_f\n",
    "        self.phi.append(phi_new)\n",
    "        self.pumps += 1\n",
    "\n",
    "    def step(self, action):\n",
    "        \"\"\"\n",
    "        Action is a choice of L\n",
    "        \"\"\"\n",
    "        l_new = (action + 0.01) * self.Lmax\n",
    "        self.L.append(l_new)\n",
    "        self.evolve()\n",
    "        state = np.array([self.phi[-1], self.omega[-1]])\n",
    "\n",
    "        if np.isclose(self.phi[-1], self.target_phi, rtol=0.1):\n",
    "            reward = 10\n",
    "            done = True\n",
    "            state = self.reset()\n",
    "        else:\n",
    "            reward = -1\n",
    "            done = False\n",
    "            if self.pumps > 15:\n",
    "                done = True\n",
    "                state = self.reset()\n",
    "        info = _\n",
    "        return state, reward, done, info\n",
    "\n",
    "    def reset(self):\n",
    "        self.clear()\n",
    "        self.phi.append(self.phi_0)\n",
    "        self.omega.append(self.omega_0)\n",
    "        self.L.append(self.L0)\n",
    "        state = np.array([self.phi[-1], self.omega[-1]])\n",
    "        return state\n",
    "\n",
    "    def render():\n",
    "        pass\n",
    "\n",
    "    def clear(self):\n",
    "        self.L.clear()\n",
    "        self.omega.clear()\n",
    "        self.phi.clear()"
   ]
  },
  {
   "cell_type": "code",
   "execution_count": 8,
   "id": "c3e35945-b5e7-45d8-b86a-9d7728858906",
   "metadata": {},
   "outputs": [
    {
     "ename": "AssertionError",
     "evalue": "Your environment must inherit from the gym.Env class cf https://github.com/openai/gym/blob/master/gym/core.py",
     "output_type": "error",
     "traceback": [
      "\u001b[0;31m---------------------------------------------------------------------------\u001b[0m",
      "\u001b[0;31mAssertionError\u001b[0m                            Traceback (most recent call last)",
      "\u001b[0;32m/var/folders/7w/j5gl6mrn46jd965bzw_01wh40000gn/T/ipykernel_17281/1084901920.py\u001b[0m in \u001b[0;36m<module>\u001b[0;34m\u001b[0m\n\u001b[0;32m----> 1\u001b[0;31m \u001b[0mcheck_env\u001b[0m\u001b[0;34m(\u001b[0m\u001b[0mSwing\u001b[0m\u001b[0;34m)\u001b[0m\u001b[0;34m\u001b[0m\u001b[0;34m\u001b[0m\u001b[0m\n\u001b[0m",
      "\u001b[0;32m~/Desktop/research/chameleon/venv/lib/python3.7/site-packages/stable_baselines3/common/env_checker.py\u001b[0m in \u001b[0;36mcheck_env\u001b[0;34m(env, warn, skip_render_check)\u001b[0m\n\u001b[1;32m    245\u001b[0m     assert isinstance(\n\u001b[1;32m    246\u001b[0m         \u001b[0menv\u001b[0m\u001b[0;34m,\u001b[0m \u001b[0mgym\u001b[0m\u001b[0;34m.\u001b[0m\u001b[0mEnv\u001b[0m\u001b[0;34m\u001b[0m\u001b[0;34m\u001b[0m\u001b[0m\n\u001b[0;32m--> 247\u001b[0;31m     ), \"Your environment must inherit from the gym.Env class cf https://github.com/openai/gym/blob/master/gym/core.py\"\n\u001b[0m\u001b[1;32m    248\u001b[0m \u001b[0;34m\u001b[0m\u001b[0m\n\u001b[1;32m    249\u001b[0m     \u001b[0;31m# ============= Check the spaces (observation and action) ================\u001b[0m\u001b[0;34m\u001b[0m\u001b[0;34m\u001b[0m\u001b[0;34m\u001b[0m\u001b[0m\n",
      "\u001b[0;31mAssertionError\u001b[0m: Your environment must inherit from the gym.Env class cf https://github.com/openai/gym/blob/master/gym/core.py"
     ]
    }
   ],
   "source": [
    "check_env(Swing)"
   ]
  },
  {
   "cell_type": "code",
   "execution_count": 9,
   "id": "c201b5a0-fb11-4a58-99b6-629c48de89b7",
   "metadata": {},
   "outputs": [],
   "source": [
    "swing = Swing()"
   ]
  },
  {
   "cell_type": "code",
   "execution_count": 11,
   "id": "2a6ed91a-d0ef-45ab-8078-0a73230464e4",
   "metadata": {},
   "outputs": [
    {
     "data": {
      "text/plain": [
       "__main__.Swing"
      ]
     },
     "execution_count": 11,
     "metadata": {},
     "output_type": "execute_result"
    }
   ],
   "source": [
    "type(swing)"
   ]
  },
  {
   "cell_type": "code",
   "execution_count": null,
   "id": "7808663f-deca-48fa-acf2-afa3f8447e90",
   "metadata": {},
   "outputs": [],
   "source": []
  }
 ],
 "metadata": {
  "kernelspec": {
   "display_name": "chameleon",
   "language": "python",
   "name": "chameleon"
  },
  "language_info": {
   "codemirror_mode": {
    "name": "ipython",
    "version": 3
   },
   "file_extension": ".py",
   "mimetype": "text/x-python",
   "name": "python",
   "nbconvert_exporter": "python",
   "pygments_lexer": "ipython3",
   "version": "3.7.4"
  }
 },
 "nbformat": 4,
 "nbformat_minor": 5
}
